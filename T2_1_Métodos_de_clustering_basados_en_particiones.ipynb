{
  "nbformat": 4,
  "nbformat_minor": 0,
  "metadata": {
    "colab": {
      "provenance": []
    },
    "kernelspec": {
      "name": "python3",
      "display_name": "Python 3"
    }
  },
  "cells": [
    {
      "cell_type": "code",
      "metadata": {
        "id": "DP2-10tRbaX8"
      },
      "source": [
        "from sklearn.cluster import KMeans\n",
        "from sklearn.datasets import load_digits\n",
        "import matplotlib.pyplot as plt\n",
        "plt.rcParams['figure.figsize'] = [8, 8]\n",
        "digits = load_digits()\n",
        "digits.data.shape"
      ],
      "execution_count": null,
      "outputs": []
    },
    {
      "cell_type": "markdown",
      "metadata": {
        "id": "9u-RUfTUbLe5"
      },
      "source": [
        "Vamos a ver algunos ejemplos de clustering con K-means.\n",
        "\n",
        "En el primer ejemplo, vamos a intentar clusterizar un dataset de números. Este dataset consiste en 1797 imágenes (ejemplos/instancias) con 64 atributos (características/variables/*features*), donde cada una de esos 64 atributos es la intensidad de un pixel de una imagen en escala de grises de 8x8:\n",
        "\n",
        "<img src=\"https://scikit-learn.org/stable/_images/sphx_glr_plot_digits_classification_001.png\">"
      ]
    },
    {
      "cell_type": "markdown",
      "metadata": {
        "id": "kSxsktEaLU84"
      },
      "source": [
        "# T2.1 - Métodos de clustering basados en particiones"
      ]
    },
    {
      "cell_type": "code",
      "metadata": {
        "id": "JE0IW8aEDMvA"
      },
      "source": [
        "plt.imshow(digits.data[1200].reshape((8,8))), plt.show()"
      ],
      "execution_count": null,
      "outputs": []
    },
    {
      "cell_type": "code",
      "metadata": {
        "id": "y_rxKiUcbcwb"
      },
      "source": [
        "# utilizamos k-means para hacer el clustering\n",
        "\n",
        "## Aquí tu código ##"
      ],
      "execution_count": null,
      "outputs": []
    },
    {
      "cell_type": "markdown",
      "metadata": {
        "id": "2M7ISy8Gbu_-"
      },
      "source": [
        "Fijaos que el resultado del clustering son 10 centroides (1 por cada cluster que le hemos pedido). Además, como hemos utilizado los pixeles \"en crudo\", estos centroides tienen las mismas dimensiones que las imágenes de entrada (`10x64`) y representan al \"típico\" número de cada cluster. Vamos a visualizarlos:"
      ]
    },
    {
      "cell_type": "code",
      "metadata": {
        "id": "7bbUcIGQbgAu"
      },
      "source": [
        "fig, ax = plt.subplots(2, 5, figsize=(8, 3))\n",
        "centers = Kmeans.cluster_centers_.reshape(10, 8, 8)\n",
        "for axi, center in zip(ax.flat, centers):\n",
        "    axi.set(xticks=[], yticks=[])\n",
        "    axi.imshow(center, interpolation='nearest', cmap=plt.cm.binary)"
      ],
      "execution_count": null,
      "outputs": []
    },
    {
      "cell_type": "markdown",
      "metadata": {
        "id": "kaigRvhkcWWu"
      },
      "source": [
        "Tal y como podemos observar, el K-means es capaz de encontrar los clusters cuyos centros son los números del 0 al 9, a excepción del 1 y el 8 que los confunde un poco.\n",
        "\n",
        "Vamos a calcular algunas métricas intrínsecas y extrínsecas de las vistas en clase para comprobar cómo ha ido el clustering cuantitativamente."
      ]
    },
    {
      "cell_type": "code",
      "metadata": {
        "id": "0rlbJ0ANEpfc"
      },
      "source": [
        "from sklearn.metrics import cluster"
      ],
      "execution_count": null,
      "outputs": []
    },
    {
      "cell_type": "code",
      "metadata": {
        "id": "mXp-V1nobkJU"
      },
      "source": [
        "print('Completness score =', ## Aquí tu código ##(digits.target, clusters))\n",
        "print('Homogeneidad =', ## Aquí tu código ##(digits.target, clusters))\n",
        "print('Información mutua (ajustada) =', ## Aquí tu código ##(digits.target, clusters))"
      ],
      "execution_count": null,
      "outputs": []
    },
    {
      "cell_type": "markdown",
      "metadata": {
        "id": "0TbvFN0mduWS"
      },
      "source": [
        "Ya que tenemos las etiquetas reales, vamos a calcular el accuracy. Para ello, vamos a usar la función `accuracy_score` disponible en  `sklearn.metrics`.\n",
        "\n",
        "Daos cuenta de que como hemos hablado en las clases, el k-means hace agrupamientos pero no tiene ni idea de a qué *clase* pertenece cada uno. Simplemente agrupa las imágenes por similitud, de forma parecida a lo que haría un *k nearest neighbours (kNN)* o algoritmo de vecinos cercanos.\n",
        "\n",
        "Por ello, lo primero que vamos a hacer es asignarle a cada cluster la etiqueta de acuerdo a la moda de sus elementos. Es decir, nos fijaremos en qué elemento se repite más en cada cluster, y ese será la etiqueta."
      ]
    },
    {
      "cell_type": "code",
      "metadata": {
        "id": "mV1Y3MTlfDww"
      },
      "source": [
        "import numpy as np\n",
        "from scipy.stats import mode\n",
        "\n",
        "labels = np.zeros_like(clusters)\n",
        "for i in range(10):\n",
        "    mask = (clusters == i)\n",
        "    labels[mask] = mode(digits.target[mask])[0]"
      ],
      "execution_count": null,
      "outputs": []
    },
    {
      "cell_type": "markdown",
      "metadata": {
        "id": "FYcJDD1XfJNK"
      },
      "source": [
        "Y ahora ya podemos calcular el accuracy:"
      ]
    },
    {
      "cell_type": "code",
      "metadata": {
        "id": "jMSL_-HdfEGj"
      },
      "source": [
        "from sklearn.metrics import accuracy_score\n",
        "accuracy_score(digits.target, labels)"
      ],
      "execution_count": null,
      "outputs": []
    },
    {
      "cell_type": "markdown",
      "metadata": {
        "id": "dAGfRs8DfPxM"
      },
      "source": [
        "Y también la matriz de confusión:"
      ]
    },
    {
      "cell_type": "code",
      "metadata": {
        "id": "YVkB2AW_fLa_"
      },
      "source": [
        "import seaborn as sns\n",
        "from sklearn.metrics import confusion_matrix\n",
        "mat = confusion_matrix(digits.target, labels)\n",
        "sns.heatmap(mat.T, square=True, annot=True, fmt='d', cbar=False,\n",
        "            xticklabels=digits.target_names,\n",
        "            yticklabels=digits.target_names)\n",
        "plt.xlabel('true label')\n",
        "plt.ylabel('predicted label');"
      ],
      "execution_count": null,
      "outputs": []
    },
    {
      "cell_type": "markdown",
      "metadata": {
        "id": "P6nBJssCfln4"
      },
      "source": [
        "Fijaos que hemos conseguido clasificar correctamente el 80% de nuestras imágenes con un simple K-means sin siquiera preprocesar los datos. Como hemos comprobado antes al plotear las imágenes, el algoritmo se confunde sobretodo con el 1 y el 8.\n",
        "\n",
        "¿Y si realizásemos algún tipo de preprocesamiento que nos permitiese mejorar los resultados?\n",
        "\n",
        "Vamos a ver qué pasaría si usásemos una técnica de reducción de dimensionalidad conocida como t-SNE (https://www.oreilly.com/learning/an-illustrated-introduction-to-the-t-sne-algorithm):"
      ]
    },
    {
      "cell_type": "code",
      "metadata": {
        "id": "CMNSzTJrGDWO"
      },
      "source": [
        "from sklearn.manifold import TSNE"
      ],
      "execution_count": null,
      "outputs": []
    },
    {
      "cell_type": "code",
      "metadata": {
        "id": "vVRF1sLrgnGu"
      },
      "source": [
        "# Utilizamos t-SNE para proyectar los datos en otro espacio de 2 dimensiones\n",
        "# Este paso tarda unos segundos, no os impacientéis :)\n",
        "\n",
        "tsne = ## Aquí tu código ##\n",
        "digits_proj = tsne.fit_transform(digits.data)\n",
        "\n",
        "# Realizamos el clustering\n",
        "\n",
        "kmeans = ## Aquí tu código ##\n",
        "clusters = kmeans.fit_predict(digits_proj)\n",
        "\n",
        "# Asignamos las etiquetas de acuerdo a la moda\n",
        "labels = np.zeros_like(clusters)\n",
        "for i in range(10):\n",
        "    mask = (clusters == i)\n",
        "    labels[mask] = mode(digits.target[mask])[0]\n",
        "\n",
        "# Calculamos el accuracy\n",
        "accuracy_score(digits.target, labels)\n",
        "\n",
        "# Mostramos la matriz de confusión\n",
        "mat = ## Aquí tu código ##\n",
        "sns.heatmap(mat.T, square=True, annot=True, fmt='d', cbar=False,\n",
        "            xticklabels=digits.target_names,\n",
        "            yticklabels=digits.target_names)\n",
        "plt.xlabel('true label')\n",
        "plt.ylabel('predicted label');"
      ],
      "execution_count": null,
      "outputs": []
    },
    {
      "cell_type": "code",
      "metadata": {
        "id": "jVGHX5hOWOQw"
      },
      "source": [
        "accuracy_score(digits.target, labels)"
      ],
      "execution_count": null,
      "outputs": []
    },
    {
      "cell_type": "markdown",
      "metadata": {
        "id": "YKRnuMZUhB4m"
      },
      "source": [
        "¿Qué os parece? Daos cuenta de la importancia de preprocesar los datos de una forma adecuada. Con esta simple decisión hemos mejorado en un 13% la precisión de nuestro algoritmo.\n",
        "\n",
        "¡Que no se os olvide! ;)"
      ]
    },
    {
      "cell_type": "code",
      "metadata": {
        "id": "F0etVGH2hOki"
      },
      "source": [],
      "execution_count": null,
      "outputs": []
    },
    {
      "cell_type": "markdown",
      "metadata": {
        "id": "VTsW7C0whTJE"
      },
      "source": [
        "El segundo ejemplo que vamos a ver trata sobre compresión de imágenes. Sí, aunque parezca mentira, se pueden usar técnicas de clustering para ello.\n",
        "\n",
        "Simplemente reducimos el número total de colores utilizados para representar la imagen, y de esta forma permitimos que se necesiten menos memoria (bits) para su almacenaje."
      ]
    },
    {
      "cell_type": "code",
      "metadata": {
        "id": "s-I90U6Fhpa8"
      },
      "source": [
        "from sklearn.datasets import load_sample_image\n",
        "china = load_sample_image(\"china.jpg\")\n",
        "ax = plt.axes(xticks=[], yticks=[])\n",
        "ax.imshow(china);"
      ],
      "execution_count": null,
      "outputs": []
    },
    {
      "cell_type": "markdown",
      "metadata": {
        "id": "q4NRkLUGh1Dn"
      },
      "source": [
        "Recordad que las imagenes se representan como matrices de `(alto, ancho, canales)`, donde los valores de los canales son rojo/verde/azul y varían de 0 a 255."
      ]
    },
    {
      "cell_type": "code",
      "metadata": {
        "id": "uXRzMGkjhpyP"
      },
      "source": [
        "china.shape"
      ],
      "execution_count": null,
      "outputs": []
    },
    {
      "cell_type": "markdown",
      "metadata": {
        "id": "IzLuN4TdiIAT"
      },
      "source": [
        "Sin embargo, podemos ver este dataset como una nube de puntos tridimensional, donde cada pixel es una instancia.\n",
        "\n",
        "Vamos a normalizar los valores entre 0 y 1 y a convertirlos en `[n_instancias, 3]`."
      ]
    },
    {
      "cell_type": "code",
      "metadata": {
        "id": "iHpi3xezXWrL"
      },
      "source": [
        "china.max()"
      ],
      "execution_count": null,
      "outputs": []
    },
    {
      "cell_type": "code",
      "metadata": {
        "id": "GiCZqMKziG02"
      },
      "source": [
        "# normalizamos la imagen para que tenga valores entre 0 y 1\n",
        "data = china / ## Aquí tu código ##\n",
        "data = data.reshape(427 * 640, 3)\n",
        "data.shape"
      ],
      "execution_count": null,
      "outputs": []
    },
    {
      "cell_type": "markdown",
      "metadata": {
        "id": "aWGCP0fLiZXU"
      },
      "source": [
        "Ahora vamos a visualizar los pixels:"
      ]
    },
    {
      "cell_type": "code",
      "metadata": {
        "id": "91vVxe08iV8z"
      },
      "source": [
        "def plot_pixels(data, title, colors=None, N=10000):\n",
        "    if colors is None:\n",
        "        colors = data\n",
        "\n",
        "    # choose a random subset\n",
        "    rng = np.random.RandomState(0)\n",
        "    i = rng.permutation(data.shape[0])[:N]\n",
        "    colors = colors[i]\n",
        "    R, G, B = data[i].T\n",
        "\n",
        "    fig, ax = plt.subplots(1, 2, figsize=(16, 6))\n",
        "    ax[0].scatter(R, G, color=colors, marker='.')\n",
        "    ax[0].set(xlabel='Red', ylabel='Green', xlim=(0, 1), ylim=(0, 1))\n",
        "\n",
        "    ax[1].scatter(R, B, color=colors, marker='.')\n",
        "    ax[1].set(xlabel='Red', ylabel='Blue', xlim=(0, 1), ylim=(0, 1))\n",
        "\n",
        "    fig.suptitle(title, size=20);"
      ],
      "execution_count": null,
      "outputs": []
    },
    {
      "cell_type": "code",
      "metadata": {
        "id": "fPrqNB7YidHK"
      },
      "source": [
        "plot_pixels(data, title='Input color space: 16 million possible colors')"
      ],
      "execution_count": null,
      "outputs": []
    },
    {
      "cell_type": "markdown",
      "metadata": {
        "id": "E4n2gCd8ilc2"
      },
      "source": [
        "Vamos ahora a reducir de 16 millones de colores a 16.\n",
        "\n",
        "Como se trata de un dataset grande, vamos a usar una variación del k-means llamada mini-batch k-Means, que funciona exactamente igual que el k-means pero con mini-batches.\n",
        "\n"
      ]
    },
    {
      "cell_type": "code",
      "metadata": {
        "id": "eRSxsW_Eidfu"
      },
      "source": [
        "import warnings; warnings.simplefilter('ignore')  # Fix NumPy issues.\n",
        "\n",
        "from sklearn.cluster import MiniBatchKMeans\n",
        "\n",
        "kmeans = ## Aquí tu código ##\n",
        "kmeans.fit(data)\n",
        "new_colors = kmeans.cluster_centers_[kmeans.predict(data)]\n",
        "print(new_colors.shape)\n",
        "plot_pixels(data, colors=new_colors, title=\"Reduced color space: 16 colors\")"
      ],
      "execution_count": null,
      "outputs": []
    },
    {
      "cell_type": "markdown",
      "metadata": {
        "id": "jXFCdCVci9KO"
      },
      "source": [
        "Perfecto. Acabamos de conseguir reducir el número de colores a 16, como podéis observar.\n",
        "\n",
        "Vamos a transformar la imagen:"
      ]
    },
    {
      "cell_type": "code",
      "metadata": {
        "id": "uXoY0n-KjDuo"
      },
      "source": [
        "china_recolored = new_colors.reshape(china.shape)\n",
        "\n",
        "fig, ax = plt.subplots(1, 2, figsize=(16, 6), subplot_kw=dict(xticks=[], yticks=[]))\n",
        "fig.subplots_adjust(wspace=0.05)\n",
        "ax[0].imshow(china)\n",
        "ax[0].set_title('Original Image', size=16)\n",
        "ax[1].imshow(china_recolored)\n",
        "ax[1].set_title('16-color Image', size=16);"
      ],
      "execution_count": null,
      "outputs": []
    },
    {
      "cell_type": "code",
      "source": [
        "#Vamos a calcular el tamaño de cada imagen\n",
        "# Ocupa aproximadamente 820 Kb (819976 bytes)\n",
        "import sys\n",
        "sys.getsizeof(china)"
      ],
      "metadata": {
        "id": "gPrHH9EAS0xL"
      },
      "execution_count": null,
      "outputs": []
    },
    {
      "cell_type": "code",
      "source": [
        "sys.getsizeof(china_recolored)\n",
        "# 136 bytes, no llega a 1Kb"
      ],
      "metadata": {
        "id": "oh6vXuDaS1TT"
      },
      "execution_count": null,
      "outputs": []
    },
    {
      "cell_type": "markdown",
      "metadata": {
        "id": "8bZrns7njJRN"
      },
      "source": [
        "Es indiscutible que se pierde calidad, pero pensad que acabamos de conseguir comprimir la imagen con un factor de más o menos 1 millón!"
      ]
    },
    {
      "cell_type": "markdown",
      "metadata": {
        "id": "GHEohCy9jbBV"
      },
      "source": [
        "La fuente de estos ejemplos, para quien quiera consultarla:\n",
        "\n",
        "*   https://jakevdp.github.io/PythonDataScienceHandbook/05.11-k-means.html\n",
        "*   https://jakevdp.github.io/PythonDataScienceHandbook/05.10-manifold-learning.html\n",
        "*   https://www.oreilly.com/learning/an-illustrated-introduction-to-the-t-sne-algorithm\n"
      ]
    }
  ]
}