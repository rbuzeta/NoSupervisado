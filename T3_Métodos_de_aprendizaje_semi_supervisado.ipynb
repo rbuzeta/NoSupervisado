{
  "nbformat": 4,
  "nbformat_minor": 0,
  "metadata": {
    "colab": {
      "provenance": []
    },
    "kernelspec": {
      "name": "python3",
      "display_name": "Python 3"
    }
  },
  "cells": [
    {
      "cell_type": "markdown",
      "metadata": {
        "id": "t1iE9XTGLU2V"
      },
      "source": [
        "# T3 - Métodos de aprendizaje semi-supervisado\n",
        "\n"
      ]
    },
    {
      "cell_type": "markdown",
      "metadata": {
        "id": "bpRUPzfm-ZM8"
      },
      "source": [
        "En esta práctica vamos a ver dos ejemplos: el primero, cómo funciona Naive Bayes con datos sin etiquetar, y el segundo, cómo podemos mejorar la versión básica del Naive Bayes aprendiendo un mejor modelo iterativamente mediante el algoritmo de EM."
      ]
    },
    {
      "cell_type": "markdown",
      "metadata": {
        "id": "7ZX9wWNFOSPh"
      },
      "source": [
        "## Naive Bayes SIN datos sin etiquetar"
      ]
    },
    {
      "cell_type": "markdown",
      "metadata": {
        "id": "h0a0c451SP7Q"
      },
      "source": [
        "Realizamos los imports necesarios:"
      ]
    },
    {
      "cell_type": "code",
      "metadata": {
        "id": "qjxuBV02NpMu"
      },
      "source": [
        "# Import packages and libraries\n",
        "import numpy as np\n",
        "import random as rnd\n",
        "\n",
        "from scipy.sparse import csr_matrix\n",
        "from sklearn.datasets import fetch_20newsgroups # ES UNA BASE DE DATOS QUE YA VIENE EN SKLEARN\n",
        "from sklearn.feature_extraction.text import TfidfVectorizer\n",
        "from sklearn.model_selection import train_test_split\n",
        "from sklearn.naive_bayes import MultinomialNB\n",
        "from sklearn import metrics\n",
        "import seaborn as sns\n",
        "import matplotlib.pyplot as plt\n",
        "plt.rcParams['figure.figsize'] = [8, 8]"
      ],
      "execution_count": null,
      "outputs": []
    },
    {
      "cell_type": "markdown",
      "metadata": {
        "id": "__7U9_0_STax"
      },
      "source": [
        "Cargamos nuestros datos:"
      ]
    },
    {
      "cell_type": "code",
      "metadata": {
        "id": "CACowL6-Npl7"
      },
      "source": [
        "# Load train and test data set with class labels\n",
        "train_Xy = fetch_20newsgroups(subset='train', remove=('headers', 'footers', 'quotes'))\n",
        "test_Xy = fetch_20newsgroups(subset='test', remove=('headers', 'footers', 'quotes'))"
      ],
      "execution_count": null,
      "outputs": []
    },
    {
      "cell_type": "markdown",
      "metadata": {
        "id": "Ufnt_gVYSV9e"
      },
      "source": [
        "Utilizamos la transformación tf-Idf para convertir las palabras a una matriz de números:"
      ]
    },
    {
      "cell_type": "code",
      "metadata": {
        "id": "Sx5rUabzNrPl"
      },
      "source": [
        "# Convert all text data into tf-idf vectors\n",
        "vectorizer = TfidfVectorizer(stop_words='english', min_df=3, max_df=0.9)\n",
        "train_vec = vectorizer.fit_transform(train_Xy.data)\n",
        "test_vec = vectorizer.transform(test_Xy.data)"
      ],
      "execution_count": null,
      "outputs": []
    },
    {
      "cell_type": "code",
      "source": [
        "test_vec.shape"
      ],
      "metadata": {
        "id": "1zhWz6L4SSYX"
      },
      "execution_count": null,
      "outputs": []
    },
    {
      "cell_type": "markdown",
      "metadata": {
        "id": "b1p87ddoSdHw"
      },
      "source": [
        "Dividimos los datos entre etiquetados y no etiquetados:"
      ]
    },
    {
      "cell_type": "code",
      "metadata": {
        "id": "4FBO5Ir3Nsry"
      },
      "source": [
        "# Divide train data set into labeled and unlabeled data sets\n",
        "n_train_data = train_vec.shape[0]\n",
        "split_ratio = 0.2 # labeled vs unlabeled\n",
        "X_l, X_u, y_l, y_u = train_test_split(train_vec, train_Xy.target, train_size=split_ratio, random_state=42)\n",
        "print(f'Número de instancias CON etiquetas: {X_l.shape}')\n",
        "print(f'Número de instancias SIN etiquetas: {X_u.shape}')"
      ],
      "execution_count": null,
      "outputs": []
    },
    {
      "cell_type": "markdown",
      "metadata": {
        "id": "24g4B1bsSkam"
      },
      "source": [
        "Entrenamos nuestro BN con únicamente los datos etiquetados:"
      ]
    },
    {
      "cell_type": "code",
      "metadata": {
        "id": "OoUpCNSQNvtK",
        "colab": {
          "base_uri": "https://localhost:8080/",
          "height": 75
        },
        "outputId": "881dfde6-1b1e-4556-a05c-658cab379622"
      },
      "source": [
        "nb_clf = # Aqui tu código\n",
        "nb_clf.fit(X_l, y_l)"
      ],
      "execution_count": null,
      "outputs": [
        {
          "output_type": "execute_result",
          "data": {
            "text/plain": [
              "MultinomialNB(alpha=1e-08)"
            ],
            "text/html": [
              "<style>#sk-container-id-1 {color: black;background-color: white;}#sk-container-id-1 pre{padding: 0;}#sk-container-id-1 div.sk-toggleable {background-color: white;}#sk-container-id-1 label.sk-toggleable__label {cursor: pointer;display: block;width: 100%;margin-bottom: 0;padding: 0.3em;box-sizing: border-box;text-align: center;}#sk-container-id-1 label.sk-toggleable__label-arrow:before {content: \"▸\";float: left;margin-right: 0.25em;color: #696969;}#sk-container-id-1 label.sk-toggleable__label-arrow:hover:before {color: black;}#sk-container-id-1 div.sk-estimator:hover label.sk-toggleable__label-arrow:before {color: black;}#sk-container-id-1 div.sk-toggleable__content {max-height: 0;max-width: 0;overflow: hidden;text-align: left;background-color: #f0f8ff;}#sk-container-id-1 div.sk-toggleable__content pre {margin: 0.2em;color: black;border-radius: 0.25em;background-color: #f0f8ff;}#sk-container-id-1 input.sk-toggleable__control:checked~div.sk-toggleable__content {max-height: 200px;max-width: 100%;overflow: auto;}#sk-container-id-1 input.sk-toggleable__control:checked~label.sk-toggleable__label-arrow:before {content: \"▾\";}#sk-container-id-1 div.sk-estimator input.sk-toggleable__control:checked~label.sk-toggleable__label {background-color: #d4ebff;}#sk-container-id-1 div.sk-label input.sk-toggleable__control:checked~label.sk-toggleable__label {background-color: #d4ebff;}#sk-container-id-1 input.sk-hidden--visually {border: 0;clip: rect(1px 1px 1px 1px);clip: rect(1px, 1px, 1px, 1px);height: 1px;margin: -1px;overflow: hidden;padding: 0;position: absolute;width: 1px;}#sk-container-id-1 div.sk-estimator {font-family: monospace;background-color: #f0f8ff;border: 1px dotted black;border-radius: 0.25em;box-sizing: border-box;margin-bottom: 0.5em;}#sk-container-id-1 div.sk-estimator:hover {background-color: #d4ebff;}#sk-container-id-1 div.sk-parallel-item::after {content: \"\";width: 100%;border-bottom: 1px solid gray;flex-grow: 1;}#sk-container-id-1 div.sk-label:hover label.sk-toggleable__label {background-color: #d4ebff;}#sk-container-id-1 div.sk-serial::before {content: \"\";position: absolute;border-left: 1px solid gray;box-sizing: border-box;top: 0;bottom: 0;left: 50%;z-index: 0;}#sk-container-id-1 div.sk-serial {display: flex;flex-direction: column;align-items: center;background-color: white;padding-right: 0.2em;padding-left: 0.2em;position: relative;}#sk-container-id-1 div.sk-item {position: relative;z-index: 1;}#sk-container-id-1 div.sk-parallel {display: flex;align-items: stretch;justify-content: center;background-color: white;position: relative;}#sk-container-id-1 div.sk-item::before, #sk-container-id-1 div.sk-parallel-item::before {content: \"\";position: absolute;border-left: 1px solid gray;box-sizing: border-box;top: 0;bottom: 0;left: 50%;z-index: -1;}#sk-container-id-1 div.sk-parallel-item {display: flex;flex-direction: column;z-index: 1;position: relative;background-color: white;}#sk-container-id-1 div.sk-parallel-item:first-child::after {align-self: flex-end;width: 50%;}#sk-container-id-1 div.sk-parallel-item:last-child::after {align-self: flex-start;width: 50%;}#sk-container-id-1 div.sk-parallel-item:only-child::after {width: 0;}#sk-container-id-1 div.sk-dashed-wrapped {border: 1px dashed gray;margin: 0 0.4em 0.5em 0.4em;box-sizing: border-box;padding-bottom: 0.4em;background-color: white;}#sk-container-id-1 div.sk-label label {font-family: monospace;font-weight: bold;display: inline-block;line-height: 1.2em;}#sk-container-id-1 div.sk-label-container {text-align: center;}#sk-container-id-1 div.sk-container {/* jupyter's `normalize.less` sets `[hidden] { display: none; }` but bootstrap.min.css set `[hidden] { display: none !important; }` so we also need the `!important` here to be able to override the default hidden behavior on the sphinx rendered scikit-learn.org. See: https://github.com/scikit-learn/scikit-learn/issues/21755 */display: inline-block !important;position: relative;}#sk-container-id-1 div.sk-text-repr-fallback {display: none;}</style><div id=\"sk-container-id-1\" class=\"sk-top-container\"><div class=\"sk-text-repr-fallback\"><pre>MultinomialNB(alpha=1e-08)</pre><b>In a Jupyter environment, please rerun this cell to show the HTML representation or trust the notebook. <br />On GitHub, the HTML representation is unable to render, please try loading this page with nbviewer.org.</b></div><div class=\"sk-container\" hidden><div class=\"sk-item\"><div class=\"sk-estimator sk-toggleable\"><input class=\"sk-toggleable__control sk-hidden--visually\" id=\"sk-estimator-id-1\" type=\"checkbox\" checked><label for=\"sk-estimator-id-1\" class=\"sk-toggleable__label sk-toggleable__label-arrow\">MultinomialNB</label><div class=\"sk-toggleable__content\"><pre>MultinomialNB(alpha=1e-08)</pre></div></div></div></div></div>"
            ]
          },
          "metadata": {},
          "execution_count": 7
        }
      ]
    },
    {
      "cell_type": "markdown",
      "metadata": {
        "id": "J9K8rD3AS1cy"
      },
      "source": [
        "Y evaluamos su comportamiento:"
      ]
    },
    {
      "cell_type": "code",
      "metadata": {
        "id": "SvfzjaZ_NyrN"
      },
      "source": [
        "# Evaluamos comportamiento NB\n",
        "pred_nb = nb_clf.predict(test_vec)\n",
        "print(metrics.classification_report(test_Xy.target, pred_nb, target_names=test_Xy.target_names))\n",
        "print(f'Accuracy score={metrics.accuracy_score(test_Xy.target, pred_nb)}')"
      ],
      "execution_count": null,
      "outputs": []
    },
    {
      "cell_type": "code",
      "metadata": {
        "id": "fVR8gVUjN3wg"
      },
      "source": [
        "# Matriz de confusión\n",
        "plt.figure(figsize=(12,12))\n",
        "sns.set()\n",
        "sns.heatmap(metrics.confusion_matrix(test_Xy.target, pred_nb), annot=True, fmt=\"d\", linewidths=.5)\n",
        "plt.title(\"Matriz de Confusion\")"
      ],
      "execution_count": null,
      "outputs": []
    },
    {
      "cell_type": "markdown",
      "metadata": {
        "id": "v6ZMA4sqPirR"
      },
      "source": [
        "## EM con NaiveBayes"
      ]
    },
    {
      "cell_type": "markdown",
      "metadata": {
        "id": "Q5_iRXYKTYnS"
      },
      "source": [
        "Nos descargamos la clase que implementa el algoritmo de EM:"
      ]
    },
    {
      "cell_type": "code",
      "metadata": {
        "id": "oD8UyDBWQGFP"
      },
      "source": [
        "!wget https://raw.githubusercontent.com/jerry-shijieli/Text_Classification_Using_EM_And_Semisupervied_Learning/master/code/Semi_EM_NB.py"
      ],
      "execution_count": null,
      "outputs": []
    },
    {
      "cell_type": "markdown",
      "metadata": {
        "id": "JMfqVe_nTdGQ"
      },
      "source": [
        "La importamos:"
      ]
    },
    {
      "cell_type": "code",
      "metadata": {
        "id": "j2uRAhL4QS83"
      },
      "source": [
        "from Semi_EM_NB import Semi_EM_MultinomialNB"
      ],
      "execution_count": null,
      "outputs": []
    },
    {
      "cell_type": "markdown",
      "metadata": {
        "id": "HdgS7bkWTiDs"
      },
      "source": [
        "Entrenamos nuestro NB con EM usando los datos etiquetados y los no etiquetados:"
      ]
    },
    {
      "cell_type": "code",
      "source": [
        "\n",
        "X_l.shape"
      ],
      "metadata": {
        "id": "y9-YHrdyTUia"
      },
      "execution_count": null,
      "outputs": []
    },
    {
      "cell_type": "code",
      "source": [
        "X_u.shape"
      ],
      "metadata": {
        "id": "rfseyzYTTVaN"
      },
      "execution_count": null,
      "outputs": []
    },
    {
      "cell_type": "code",
      "source": [
        "test_Xy.target.shape"
      ],
      "metadata": {
        "id": "ohfcJB7XTbcC"
      },
      "execution_count": null,
      "outputs": []
    },
    {
      "cell_type": "code",
      "metadata": {
        "id": "yzIdxpIdPkjT"
      },
      "source": [
        "em_nb_clf = # Aqui tu código\n",
        "em_nb_clf.fit(X_l, y_l, X_u)"
      ],
      "execution_count": null,
      "outputs": []
    },
    {
      "cell_type": "markdown",
      "metadata": {
        "id": "G7VAquRWToaq"
      },
      "source": [
        "Y lo evaluamos:"
      ]
    },
    {
      "cell_type": "code",
      "metadata": {
        "id": "MQTmE8r_Qbwc"
      },
      "source": [
        "# Evaluamos su comportamiento\n",
        "pred_em_nb = em_nb_clf.predict(test_vec)\n",
        "print(metrics.classification_report(test_Xy.target, pred_em_nb, target_names=test_Xy.target_names))\n",
        "print(f'Accuracy score={metrics.accuracy_score(test_Xy.target, pred_em_nb)}')"
      ],
      "execution_count": null,
      "outputs": []
    },
    {
      "cell_type": "code",
      "metadata": {
        "id": "pu1N0wAHQbqS"
      },
      "source": [
        "# plot confusion matrix for test dataset\n",
        "plt.figure(figsize=(12,12))\n",
        "sns.set()\n",
        "sns.heatmap(metrics.confusion_matrix(test_Xy.target, pred_em_nb), annot=True, fmt=\"d\", linewidths=.5)\n",
        "plt.title(\"Matriz de Confusion\")"
      ],
      "execution_count": null,
      "outputs": []
    },
    {
      "cell_type": "markdown",
      "metadata": {
        "id": "A-Y7i_eGT5uz"
      },
      "source": [
        "Veamos las distribuciones aprendidas:"
      ]
    },
    {
      "cell_type": "code",
      "metadata": {
        "id": "m8U-0rlfQbiP"
      },
      "source": [
        "print('NB: ', nb_clf.class_log_prior_)\n",
        "print('EM NB: ', em_nb_clf.clf.class_log_prior_)"
      ],
      "execution_count": null,
      "outputs": []
    },
    {
      "cell_type": "markdown",
      "metadata": {
        "id": "lnFqEcS-T_lT"
      },
      "source": [
        "Y para ver de una forma más visual la mejora que ha habido, veamos la diferencia entre las matrices de confusión:"
      ]
    },
    {
      "cell_type": "code",
      "metadata": {
        "id": "XtBFAhqORY5g"
      },
      "source": [
        "# plot diferencias entre las matrices de confusion\n",
        "plt.figure(figsize=(12,12))\n",
        "sns.set()\n",
        "sns.heatmap(metrics.confusion_matrix(test_Xy.target, pred_em_nb) - metrics.confusion_matrix(test_Xy.target, pred_nb), annot=True, fmt=\"d\", linewidths=.5)\n",
        "plt.title(\"Diferencias entre NB y EM NB\")"
      ],
      "execution_count": null,
      "outputs": []
    },
    {
      "cell_type": "markdown",
      "metadata": {
        "id": "GOUqy1UAPqnB"
      },
      "source": [
        "FUENTE: https://github.com/jerry-shijieli/Text_Classification_Using_EM_And_Semisupervied_Learning/\n",
        "\n",
        "- Explicaciones de NB bastante didácticas y útiles:\n",
        "   - https://towardsdatascience.com/all-about-naive-bayes-8e13cef044cf\n",
        "   - https://medium.com/@srishtisawla/introduction-to-naive-bayes-for-classification-baefefb43a2d\n",
        "- Uso de NB para sentiment analysis con código y muy didáctico: https://levelup.gitconnected.com/movie-review-sentiment-analysis-with-naive-bayes-machine-learning-from-scratch-part-v-7bb869391bab"
      ]
    }
  ]
}